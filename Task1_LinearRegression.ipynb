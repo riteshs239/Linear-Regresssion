{
  "nbformat": 4,
  "nbformat_minor": 0,
  "metadata": {
    "colab": {
      "name": "Task1-LinearRegression.ipynb",
      "provenance": []
    },
    "kernelspec": {
      "name": "python3",
      "display_name": "Python 3"
    }
  },
  "cells": [
    {
      "cell_type": "markdown",
      "metadata": {
        "id": "hPyUcolStFl0"
      },
      "source": [
        "### NAMAGIRI LAKSHMI TB"
      ]
    },
    {
      "cell_type": "markdown",
      "metadata": {
        "id": "9Gy6E8OjtFgO"
      },
      "source": [
        "## TASK 1\r\n",
        "\r\n",
        "# ***Problem Statement***\r\n",
        "Predict the percentage of an student based on the number of study hours."
      ]
    },
    {
      "cell_type": "markdown",
      "metadata": {
        "id": "pcgMLEu6tFZh"
      },
      "source": [
        "### Organisation: **THE SPARKS FOUNDATION**"
      ]
    },
    {
      "cell_type": "markdown",
      "metadata": {
        "id": "hShOYGiMtIgE"
      },
      "source": [
        "## SETTING THE DIRECTORY FOR GOOGLE COLAB."
      ]
    },
    {
      "cell_type": "code",
      "metadata": {
        "id": "8aOOX-MzJJEM",
        "colab": {
          "base_uri": "https://localhost:8080/"
        },
        "outputId": "351905a7-d0d9-4990-cb0e-61c9468e79d0"
      },
      "source": [
        "from google.colab import drive\r\n",
        "drive.mount('/content/drive/')"
      ],
      "execution_count": 1,
      "outputs": [
        {
          "output_type": "stream",
          "text": [
            "Mounted at /content/drive/\n"
          ],
          "name": "stdout"
        }
      ]
    },
    {
      "cell_type": "code",
      "metadata": {
        "id": "vtRYb0TYJm5R"
      },
      "source": [
        "#setting project path\r\n",
        "import os\r\n",
        "os.chdir('/content/drive/My Drive')"
      ],
      "execution_count": 2,
      "outputs": []
    },
    {
      "cell_type": "code",
      "metadata": {
        "colab": {
          "base_uri": "https://localhost:8080/"
        },
        "id": "I6W1JMA8JvnY",
        "outputId": "fff518bb-fb3e-4ec5-b6a0-8ae039f7975f"
      },
      "source": [
        "#to check if the current working directory is same as mentioned above\r\n",
        "path = os.getcwd()\r\n",
        "print(path)"
      ],
      "execution_count": 3,
      "outputs": [
        {
          "output_type": "stream",
          "text": [
            "/content/drive/My Drive\n"
          ],
          "name": "stdout"
        }
      ]
    },
    {
      "cell_type": "code",
      "metadata": {
        "id": "YBgq6pQDKbTN"
      },
      "source": [
        "# Numerical libraries\r\n",
        "import numpy as np   \r\n",
        "\r\n",
        "# Import Linear Regression machine learning library\r\n",
        "from sklearn.linear_model import LinearRegression\r\n",
        "from sklearn.model_selection import train_test_split\r\n",
        "\r\n",
        "# libraries for model evaluation\r\n",
        "from sklearn.metrics import mean_squared_error\r\n",
        "from math import sqrt\r\n",
        "\r\n",
        "# to handle data in form of rows and columns \r\n",
        "import pandas as pd    \r\n",
        "\r\n",
        "# importing ploting libraries\r\n",
        "import matplotlib.pyplot as plt   \r\n",
        "\r\n",
        "#importing seaborn for statistical plots\r\n",
        "import seaborn as sns\r\n"
      ],
      "execution_count": 13,
      "outputs": []
    },
    {
      "cell_type": "code",
      "metadata": {
        "id": "6Np7XHnrKkuf"
      },
      "source": [
        "#READING OUR DATASET\r\n",
        "scores_df=pd.read_csv(\"/content/drive/MyDrive/student_scores - student_scores.txt\")"
      ],
      "execution_count": 5,
      "outputs": []
    },
    {
      "cell_type": "code",
      "metadata": {
        "colab": {
          "base_uri": "https://localhost:8080/",
          "height": 516
        },
        "id": "pfhoQ8ApKk19",
        "outputId": "57eb6e10-b453-49e5-f652-7ee38da365e3"
      },
      "source": [
        "#by default it shows the first five rows, using head(15) as i wish to see more.\r\n",
        "scores_df.head(15)"
      ],
      "execution_count": 7,
      "outputs": [
        {
          "output_type": "execute_result",
          "data": {
            "text/html": [
              "<div>\n",
              "<style scoped>\n",
              "    .dataframe tbody tr th:only-of-type {\n",
              "        vertical-align: middle;\n",
              "    }\n",
              "\n",
              "    .dataframe tbody tr th {\n",
              "        vertical-align: top;\n",
              "    }\n",
              "\n",
              "    .dataframe thead th {\n",
              "        text-align: right;\n",
              "    }\n",
              "</style>\n",
              "<table border=\"1\" class=\"dataframe\">\n",
              "  <thead>\n",
              "    <tr style=\"text-align: right;\">\n",
              "      <th></th>\n",
              "      <th>Hours</th>\n",
              "      <th>Scores</th>\n",
              "    </tr>\n",
              "  </thead>\n",
              "  <tbody>\n",
              "    <tr>\n",
              "      <th>0</th>\n",
              "      <td>2.5</td>\n",
              "      <td>21</td>\n",
              "    </tr>\n",
              "    <tr>\n",
              "      <th>1</th>\n",
              "      <td>5.1</td>\n",
              "      <td>47</td>\n",
              "    </tr>\n",
              "    <tr>\n",
              "      <th>2</th>\n",
              "      <td>3.2</td>\n",
              "      <td>27</td>\n",
              "    </tr>\n",
              "    <tr>\n",
              "      <th>3</th>\n",
              "      <td>8.5</td>\n",
              "      <td>75</td>\n",
              "    </tr>\n",
              "    <tr>\n",
              "      <th>4</th>\n",
              "      <td>3.5</td>\n",
              "      <td>30</td>\n",
              "    </tr>\n",
              "    <tr>\n",
              "      <th>5</th>\n",
              "      <td>1.5</td>\n",
              "      <td>20</td>\n",
              "    </tr>\n",
              "    <tr>\n",
              "      <th>6</th>\n",
              "      <td>9.2</td>\n",
              "      <td>88</td>\n",
              "    </tr>\n",
              "    <tr>\n",
              "      <th>7</th>\n",
              "      <td>5.5</td>\n",
              "      <td>60</td>\n",
              "    </tr>\n",
              "    <tr>\n",
              "      <th>8</th>\n",
              "      <td>8.3</td>\n",
              "      <td>81</td>\n",
              "    </tr>\n",
              "    <tr>\n",
              "      <th>9</th>\n",
              "      <td>2.7</td>\n",
              "      <td>25</td>\n",
              "    </tr>\n",
              "    <tr>\n",
              "      <th>10</th>\n",
              "      <td>7.7</td>\n",
              "      <td>85</td>\n",
              "    </tr>\n",
              "    <tr>\n",
              "      <th>11</th>\n",
              "      <td>5.9</td>\n",
              "      <td>62</td>\n",
              "    </tr>\n",
              "    <tr>\n",
              "      <th>12</th>\n",
              "      <td>4.5</td>\n",
              "      <td>41</td>\n",
              "    </tr>\n",
              "    <tr>\n",
              "      <th>13</th>\n",
              "      <td>3.3</td>\n",
              "      <td>42</td>\n",
              "    </tr>\n",
              "    <tr>\n",
              "      <th>14</th>\n",
              "      <td>1.1</td>\n",
              "      <td>17</td>\n",
              "    </tr>\n",
              "  </tbody>\n",
              "</table>\n",
              "</div>"
            ],
            "text/plain": [
              "    Hours  Scores\n",
              "0     2.5      21\n",
              "1     5.1      47\n",
              "2     3.2      27\n",
              "3     8.5      75\n",
              "4     3.5      30\n",
              "5     1.5      20\n",
              "6     9.2      88\n",
              "7     5.5      60\n",
              "8     8.3      81\n",
              "9     2.7      25\n",
              "10    7.7      85\n",
              "11    5.9      62\n",
              "12    4.5      41\n",
              "13    3.3      42\n",
              "14    1.1      17"
            ]
          },
          "metadata": {
            "tags": []
          },
          "execution_count": 7
        }
      ]
    },
    {
      "cell_type": "code",
      "metadata": {
        "colab": {
          "base_uri": "https://localhost:8080/"
        },
        "id": "Jwo_8LnXKk5o",
        "outputId": "e27858c9-5a95-4b41-c77b-c07a450f4bfc"
      },
      "source": [
        "#to check the shape of the dataset\r\n",
        "scores_df.shape"
      ],
      "execution_count": 9,
      "outputs": [
        {
          "output_type": "execute_result",
          "data": {
            "text/plain": [
              "(25, 2)"
            ]
          },
          "metadata": {
            "tags": []
          },
          "execution_count": 9
        }
      ]
    },
    {
      "cell_type": "markdown",
      "metadata": {
        "id": "JhZCtdmMLaMk"
      },
      "source": [
        "our dataset consists of 25 rows and 2 columns."
      ]
    },
    {
      "cell_type": "code",
      "metadata": {
        "colab": {
          "base_uri": "https://localhost:8080/"
        },
        "id": "J-qOOnqlr31e",
        "outputId": "6e76a345-e0f9-400b-a533-3825f12b3059"
      },
      "source": [
        "#checking the information of the dataset\r\n",
        "scores_df.info()"
      ],
      "execution_count": 57,
      "outputs": [
        {
          "output_type": "stream",
          "text": [
            "<class 'pandas.core.frame.DataFrame'>\n",
            "RangeIndex: 25 entries, 0 to 24\n",
            "Data columns (total 2 columns):\n",
            " #   Column  Non-Null Count  Dtype  \n",
            "---  ------  --------------  -----  \n",
            " 0   Hours   25 non-null     float64\n",
            " 1   Scores  25 non-null     int64  \n",
            "dtypes: float64(1), int64(1)\n",
            "memory usage: 528.0 bytes\n"
          ],
          "name": "stdout"
        }
      ]
    },
    {
      "cell_type": "code",
      "metadata": {
        "colab": {
          "base_uri": "https://localhost:8080/"
        },
        "id": "pYmiqaGdLCU4",
        "outputId": "f55af843-09da-47da-9b7c-5dcecc00bdde"
      },
      "source": [
        "#to check for null values\r\n",
        "scores_df.isna().sum()"
      ],
      "execution_count": 10,
      "outputs": [
        {
          "output_type": "execute_result",
          "data": {
            "text/plain": [
              "Hours     0\n",
              "Scores    0\n",
              "dtype: int64"
            ]
          },
          "metadata": {
            "tags": []
          },
          "execution_count": 10
        }
      ]
    },
    {
      "cell_type": "markdown",
      "metadata": {
        "id": "7URcWtZ-LqjV"
      },
      "source": [
        "We notice that we do not have null values present."
      ]
    },
    {
      "cell_type": "code",
      "metadata": {
        "colab": {
          "base_uri": "https://localhost:8080/",
          "height": 111
        },
        "id": "d6xdVAOELnXW",
        "outputId": "6da16484-783a-4c22-d5a2-2e2c00daf23f"
      },
      "source": [
        "scores_df.corr()"
      ],
      "execution_count": 11,
      "outputs": [
        {
          "output_type": "execute_result",
          "data": {
            "text/html": [
              "<div>\n",
              "<style scoped>\n",
              "    .dataframe tbody tr th:only-of-type {\n",
              "        vertical-align: middle;\n",
              "    }\n",
              "\n",
              "    .dataframe tbody tr th {\n",
              "        vertical-align: top;\n",
              "    }\n",
              "\n",
              "    .dataframe thead th {\n",
              "        text-align: right;\n",
              "    }\n",
              "</style>\n",
              "<table border=\"1\" class=\"dataframe\">\n",
              "  <thead>\n",
              "    <tr style=\"text-align: right;\">\n",
              "      <th></th>\n",
              "      <th>Hours</th>\n",
              "      <th>Scores</th>\n",
              "    </tr>\n",
              "  </thead>\n",
              "  <tbody>\n",
              "    <tr>\n",
              "      <th>Hours</th>\n",
              "      <td>1.000000</td>\n",
              "      <td>0.976191</td>\n",
              "    </tr>\n",
              "    <tr>\n",
              "      <th>Scores</th>\n",
              "      <td>0.976191</td>\n",
              "      <td>1.000000</td>\n",
              "    </tr>\n",
              "  </tbody>\n",
              "</table>\n",
              "</div>"
            ],
            "text/plain": [
              "           Hours    Scores\n",
              "Hours   1.000000  0.976191\n",
              "Scores  0.976191  1.000000"
            ]
          },
          "metadata": {
            "tags": []
          },
          "execution_count": 11
        }
      ]
    },
    {
      "cell_type": "markdown",
      "metadata": {
        "id": "1q5GPln_MpF2"
      },
      "source": [
        "The high correlation betwwen hours and scores indicates that the variable **hours** is a good predictor of variable **scores**"
      ]
    },
    {
      "cell_type": "markdown",
      "metadata": {
        "id": "NreqhO3V1U4R"
      },
      "source": [
        "## **Visulaizations**"
      ]
    },
    {
      "cell_type": "code",
      "metadata": {
        "colab": {
          "base_uri": "https://localhost:8080/",
          "height": 296
        },
        "id": "sT6cmnSAPPIU",
        "outputId": "8f83f7cd-8aa8-4e2a-fde6-c4003c0fe773"
      },
      "source": [
        "#Visualizing numeric variables – histograms\r\n",
        "plt.figure(figsize=(12,4))\r\n",
        "plt.subplot(1, 2, 1)\r\n",
        "scores_df['Hours'].plot.hist(bins=10,color='darkred',edgecolor='white')\r\n",
        "plt.subplot(1, 2, 2)\r\n",
        "scores_df['Scores'].plot.hist(bins=10,color='darkred',edgecolor='white')\r\n",
        "plt.tight_layout()"
      ],
      "execution_count": 24,
      "outputs": [
        {
          "output_type": "display_data",
          "data": {
            "image/png": "[encoded data removed]",
            "text/plain": [
              "<Figure size 864x288 with 2 Axes>"
            ]
          },
          "metadata": {
            "tags": [],
            "needs_background": "light"
          }
        }
      ]
    },
    {
      "cell_type": "code",
      "metadata": {
        "colab": {
          "base_uri": "https://localhost:8080/",
          "height": 296
        },
        "id": "YPTjR1J9PiPt",
        "outputId": "d581e9b4-cc31-443f-f2c3-b9f94a2d9c72"
      },
      "source": [
        "#Visualizing relationships – scatterplots\r\n",
        "scores_df.plot.scatter(y='Hours',x='Scores',color='darkred',alpha=0.25,figsize=(8,4))"
      ],
      "execution_count": 25,
      "outputs": [
        {
          "output_type": "execute_result",
          "data": {
            "text/plain": [
              "<matplotlib.axes._subplots.AxesSubplot at 0x7efd0ff4cbd0>"
            ]
          },
          "metadata": {
            "tags": []
          },
          "execution_count": 25
        },
        {
          "output_type": "display_data",
          "data": {
            "image/png": "[encoded data removed]",
            "text/plain": [
              "<Figure size 576x288 with 1 Axes>"
            ]
          },
          "metadata": {
            "tags": [],
            "needs_background": "light"
          }
        }
      ]
    },
    {
      "cell_type": "markdown",
      "metadata": {
        "id": "ldlV4XBnQRrd"
      },
      "source": [
        "From the above visualization we can conclude that they are linearly related."
      ]
    },
    {
      "cell_type": "markdown",
      "metadata": {
        "id": "0LC65V4gNLnP"
      },
      "source": [
        "## **SPLITTING THE DATA INTO TRAIN AND TEST SET**"
      ]
    },
    {
      "cell_type": "code",
      "metadata": {
        "id": "wrKZRmnXOZZO"
      },
      "source": [
        "#X being the independant variable and y is the depedant variable\r\n",
        "X = scores_df.iloc[:, :-1].values\r\n",
        "y = scores_df.iloc[:, 1].values"
      ],
      "execution_count": 28,
      "outputs": []
    },
    {
      "cell_type": "code",
      "metadata": {
        "colab": {
          "base_uri": "https://localhost:8080/"
        },
        "id": "BR74NiUAOrAj",
        "outputId": "cefc0d6b-4e14-4d2c-c3c7-aa2b9037aaee"
      },
      "source": [
        "X.shape\r\n",
        "y.shape\r\n",
        "print(\"shape of X is:\",X.shape)\r\n",
        "print(\"shape of y is:\",y.shape)"
      ],
      "execution_count": 29,
      "outputs": [
        {
          "output_type": "stream",
          "text": [
            "shape of X is: (25, 1)\n",
            "shape of y is: (25,)\n"
          ],
          "name": "stdout"
        }
      ]
    },
    {
      "cell_type": "code",
      "metadata": {
        "id": "49hWoy_GO5qO"
      },
      "source": [
        "# splitting the dataset into train and test set in the ratio 80:20, 80 for training and 20 for testing.\r\n",
        "from sklearn.model_selection import train_test_split\r\n",
        "X_train, X_test, y_train, y_test = train_test_split(X, y, test_size=0.2, random_state=0)"
      ],
      "execution_count": 30,
      "outputs": []
    },
    {
      "cell_type": "code",
      "metadata": {
        "colab": {
          "base_uri": "https://localhost:8080/"
        },
        "id": "Nc1n3qrAWx8j",
        "outputId": "f61f7b8d-a4df-483c-ec80-b1e4e685cde5"
      },
      "source": [
        "#checking the shape of X-train and y_train\r\n",
        "X_train.shape\r\n",
        "y_train.shape\r\n",
        "print(\"shape of X_train is:\",X_train.shape)\r\n",
        "print(\"shape of y_train is:\",y_train .shape)"
      ],
      "execution_count": 33,
      "outputs": [
        {
          "output_type": "stream",
          "text": [
            "shape of X_train is: (20, 1)\n",
            "shape of y_train is: (20,)\n"
          ],
          "name": "stdout"
        }
      ]
    },
    {
      "cell_type": "code",
      "metadata": {
        "colab": {
          "base_uri": "https://localhost:8080/"
        },
        "id": "HbAS-Z3_W0mL",
        "outputId": "7fe44e07-d657-41ed-9132-408ada721a2d"
      },
      "source": [
        "#checking the shape of X_test and y_test\r\n",
        "X_test.shape\r\n",
        "y_test.shape\r\n",
        "print(\"shape of X_test is:\",X_test.shape)\r\n",
        "print(\"shape of y_test is:\",y_test.shape)"
      ],
      "execution_count": 34,
      "outputs": [
        {
          "output_type": "stream",
          "text": [
            "shape of X_test is: (5, 1)\n",
            "shape of y_test is: (5,)\n"
          ],
          "name": "stdout"
        }
      ]
    },
    {
      "cell_type": "code",
      "metadata": {
        "colab": {
          "base_uri": "https://localhost:8080/"
        },
        "id": "MKcecdPiW15D",
        "outputId": "9098fd18-4537-4716-aa10-7e3b24459c31"
      },
      "source": [
        "#Training the model\r\n",
        "lr=LinearRegression()\r\n",
        "lr.fit(X_train,y_train)\r\n"
      ],
      "execution_count": 35,
      "outputs": [
        {
          "output_type": "execute_result",
          "data": {
            "text/plain": [
              "LinearRegression(copy_X=True, fit_intercept=True, n_jobs=None, normalize=False)"
            ]
          },
          "metadata": {
            "tags": []
          },
          "execution_count": 35
        }
      ]
    },
    {
      "cell_type": "code",
      "metadata": {
        "colab": {
          "base_uri": "https://localhost:8080/"
        },
        "id": "BHZ4GDW4Xxi0",
        "outputId": "90aec268-539d-44c6-c606-f46458dd858e"
      },
      "source": [
        "b1=lr.coef_\r\n",
        "print(b1)"
      ],
      "execution_count": 46,
      "outputs": [
        {
          "output_type": "stream",
          "text": [
            "[9.91065648]\n"
          ],
          "name": "stdout"
        }
      ]
    },
    {
      "cell_type": "code",
      "metadata": {
        "colab": {
          "base_uri": "https://localhost:8080/"
        },
        "id": "K1L9LR0EX3Nj",
        "outputId": "264d38f5-bc61-4385-8e8e-a6537a046f92"
      },
      "source": [
        "b0=lr.intercept_\r\n",
        "print(b0)"
      ],
      "execution_count": 48,
      "outputs": [
        {
          "output_type": "stream",
          "text": [
            "2.018160041434662\n"
          ],
          "name": "stdout"
        }
      ]
    },
    {
      "cell_type": "code",
      "metadata": {
        "colab": {
          "base_uri": "https://localhost:8080/"
        },
        "id": "z03BuUIhY4lv",
        "outputId": "b29b1d3a-8571-4f1f-ddfd-da6e88aeef29"
      },
      "source": [
        "#pritning accuracy of the model on trsin data\r\n",
        "lr.score(X_train,y_train)"
      ],
      "execution_count": 42,
      "outputs": [
        {
          "output_type": "execute_result",
          "data": {
            "text/plain": [
              "0.9515510725211553"
            ]
          },
          "metadata": {
            "tags": []
          },
          "execution_count": 42
        }
      ]
    },
    {
      "cell_type": "code",
      "metadata": {
        "colab": {
          "base_uri": "https://localhost:8080/"
        },
        "id": "1NVpD-ceX7rT",
        "outputId": "f421a4ff-8969-4852-e440-f38f99995fe0"
      },
      "source": [
        "#printing accuracy of the model of test data\r\n",
        "lr.score(X_test, y_test)"
      ],
      "execution_count": 41,
      "outputs": [
        {
          "output_type": "execute_result",
          "data": {
            "text/plain": [
              "0.9454906892105354"
            ]
          },
          "metadata": {
            "tags": []
          },
          "execution_count": 41
        }
      ]
    },
    {
      "cell_type": "code",
      "metadata": {
        "colab": {
          "base_uri": "https://localhost:8080/",
          "height": 282
        },
        "id": "iGneL-xLnpSt",
        "outputId": "5cc38e4c-a412-4754-ed61-a6656ed9dfbf"
      },
      "source": [
        "#plotting Linear Relationship between feature and target , b1 as slope and bo as y -intercept\r\n",
        "plt.plot(X_train,b1*X_train+b0,color=\"black\")"
      ],
      "execution_count": 59,
      "outputs": [
        {
          "output_type": "execute_result",
          "data": {
            "text/plain": [
              "[<matplotlib.lines.Line2D at 0x7efd02d5e8d0>]"
            ]
          },
          "metadata": {
            "tags": []
          },
          "execution_count": 59
        },
        {
          "output_type": "display_data",
          "data": {
            "image/png": "[encoded data removed]",
            "text/plain": [
              "<Figure size 432x288 with 1 Axes>"
            ]
          },
          "metadata": {
            "tags": [],
            "needs_background": "light"
          }
        }
      ]
    },
    {
      "cell_type": "code",
      "metadata": {
        "colab": {
          "base_uri": "https://localhost:8080/",
          "height": 265
        },
        "id": "lpGWJWpXqViE",
        "outputId": "05ba1163-baf6-478f-df23-956efb354fd5"
      },
      "source": [
        "#VISULAIZING THE CO-EFFICIENT AND INTERCEPT\r\n",
        "# Plotting the regression line\r\n",
        "line = lr.coef_*X+lr.intercept_\r\n",
        "\r\n",
        "# Plotting for the test data\r\n",
        "plt.scatter(X, y,color=\"black\")\r\n",
        "plt.plot(X, line,color=\"red\");\r\n",
        "plt.show()"
      ],
      "execution_count": 58,
      "outputs": [
        {
          "output_type": "display_data",
          "data": {
            "image/png": "[encoded data removed]",
            "text/plain": [
              "<Figure size 432x288 with 1 Axes>"
            ]
          },
          "metadata": {
            "tags": [],
            "needs_background": "light"
          }
        }
      ]
    },
    {
      "cell_type": "markdown",
      "metadata": {
        "id": "iuIO-73_Y_gG"
      },
      "source": [
        "We notice the model has performed really well with with an accuracy of **95%** on train data and accuracy of **94.54%** on test data, the model if not overfitting."
      ]
    },
    {
      "cell_type": "code",
      "metadata": {
        "colab": {
          "base_uri": "https://localhost:8080/"
        },
        "id": "YVJHKDAGoZmQ",
        "outputId": "20e7e3f8-b2a4-48dd-da22-37330e1223f6"
      },
      "source": [
        "#model evaluation\r\n",
        "y_pred =lr.predict(X_test)\r\n",
        "mse = mean_squared_error(y_test, y_pred)\r\n",
        "print(mse)\r\n"
      ],
      "execution_count": 53,
      "outputs": [
        {
          "output_type": "stream",
          "text": [
            "21.598769307217456\n"
          ],
          "name": "stdout"
        }
      ]
    },
    {
      "cell_type": "markdown",
      "metadata": {
        "id": "y5O9Xs2UvU8h"
      },
      "source": [
        "LESSER THE MSE VALUE BETTER THE MODEL. BUT HERE SINCE I HAVE USED ONLY ONE MODEL,CAN'T COMPARE."
      ]
    },
    {
      "cell_type": "code",
      "metadata": {
        "colab": {
          "base_uri": "https://localhost:8080/",
          "height": 205
        },
        "id": "hTbm2WpOYGvj",
        "outputId": "f8b919c8-79ad-4270-cccb-9eec06a2a21e"
      },
      "source": [
        "y_pred = lr.predict(X_test)\r\n",
        "#comparing actual vs predicted\r\n",
        "ActualVsPred= pd.DataFrame({'Actual': y_test, 'Predicted': y_pred})\r\n",
        "ActualVsPred\r\n"
      ],
      "execution_count": 61,
      "outputs": [
        {
          "output_type": "execute_result",
          "data": {
            "text/html": [
              "<div>\n",
              "<style scoped>\n",
              "    .dataframe tbody tr th:only-of-type {\n",
              "        vertical-align: middle;\n",
              "    }\n",
              "\n",
              "    .dataframe tbody tr th {\n",
              "        vertical-align: top;\n",
              "    }\n",
              "\n",
              "    .dataframe thead th {\n",
              "        text-align: right;\n",
              "    }\n",
              "</style>\n",
              "<table border=\"1\" class=\"dataframe\">\n",
              "  <thead>\n",
              "    <tr style=\"text-align: right;\">\n",
              "      <th></th>\n",
              "      <th>Actual</th>\n",
              "      <th>Predicted</th>\n",
              "    </tr>\n",
              "  </thead>\n",
              "  <tbody>\n",
              "    <tr>\n",
              "      <th>0</th>\n",
              "      <td>20</td>\n",
              "      <td>16.884145</td>\n",
              "    </tr>\n",
              "    <tr>\n",
              "      <th>1</th>\n",
              "      <td>27</td>\n",
              "      <td>33.732261</td>\n",
              "    </tr>\n",
              "    <tr>\n",
              "      <th>2</th>\n",
              "      <td>69</td>\n",
              "      <td>75.357018</td>\n",
              "    </tr>\n",
              "    <tr>\n",
              "      <th>3</th>\n",
              "      <td>30</td>\n",
              "      <td>26.794801</td>\n",
              "    </tr>\n",
              "    <tr>\n",
              "      <th>4</th>\n",
              "      <td>62</td>\n",
              "      <td>60.491033</td>\n",
              "    </tr>\n",
              "  </tbody>\n",
              "</table>\n",
              "</div>"
            ],
            "text/plain": [
              "   Actual  Predicted\n",
              "0      20  16.884145\n",
              "1      27  33.732261\n",
              "2      69  75.357018\n",
              "3      30  26.794801\n",
              "4      62  60.491033"
            ]
          },
          "metadata": {
            "tags": []
          },
          "execution_count": 61
        }
      ]
    },
    {
      "cell_type": "code",
      "metadata": {
        "colab": {
          "base_uri": "https://localhost:8080/",
          "height": 279
        },
        "id": "JEKJP2i0slrA",
        "outputId": "cd699f4f-6fd8-4543-ed73-718d8b0554b9"
      },
      "source": [
        "ActualVsPred.plot(kind=\"bar\")"
      ],
      "execution_count": 63,
      "outputs": [
        {
          "output_type": "execute_result",
          "data": {
            "text/plain": [
              "<matplotlib.axes._subplots.AxesSubplot at 0x7efd02cc7b50>"
            ]
          },
          "metadata": {
            "tags": []
          },
          "execution_count": 63
        },
        {
          "output_type": "display_data",
          "data": {
            "image/png": "[encoded data removed]",
            "text/plain": [
              "<Figure size 432x288 with 1 Axes>"
            ]
          },
          "metadata": {
            "tags": [],
            "needs_background": "light"
          }
        }
      ]
    },
    {
      "cell_type": "markdown",
      "metadata": {
        "id": "oEvHyY84s53Y"
      },
      "source": [
        "The model has predicted well,almost correct as our accuracy is around 95%(rounded off)"
      ]
    },
    {
      "cell_type": "markdown",
      "metadata": {
        "id": "9G1UhbYy1HZM"
      },
      "source": [
        "## What will be predicted score if a student studies for 9.25 hrs/ day?"
      ]
    },
    {
      "cell_type": "code",
      "metadata": {
        "colab": {
          "base_uri": "https://localhost:8080/"
        },
        "id": "2PwQdQrBZ3O1",
        "outputId": "671db4a2-89fb-4fae-86b6-5a67f6ce9563"
      },
      "source": [
        "#predicting result for single value\r\n",
        "single_result=lr.predict([[9.25]])\r\n",
        "print(single_result)"
      ],
      "execution_count": 54,
      "outputs": [
        {
          "output_type": "stream",
          "text": [
            "[93.69173249]\n"
          ],
          "name": "stdout"
        }
      ]
    },
    {
      "cell_type": "markdown",
      "metadata": {
        "id": "wBHKMo-jps69"
      },
      "source": [
        "We can conclude that if the student studies for 9.25 hours he can achieve 93.69%"
      ]
    },
    {
      "cell_type": "markdown",
      "metadata": {
        "id": "C3UKI2z4tmna"
      },
      "source": [
        "**FINAL CONCLUSION**\r\n",
        "\r\n",
        "•\tOur dataset has 2 columns, Hours and Scores.\r\n",
        "\r\n",
        "•\tShape of our dataset is (25,2), has 25 rows and 2 columns\r\n",
        "\r\n",
        "•\tThere are no null values present in our dataset\r\n",
        "\r\n",
        "•\tHours and Scores columns are highly correlated.\r\n",
        "\r\n",
        "•\tThese two variables are linearly dependant.\r\n",
        "\r\n",
        "•\tBy using linear regression, we are able to achieve an accuracy of 95% on the train data and 94.54% on test data.\r\n",
        "\r\n",
        "•\tWhile comparing the accuracies of train and test data we can conclude that our model is not over fitting.\r\n",
        "\r\n",
        "•\tIf a student studies for 9.25 hours he will be able to achieve 93.69%, greater the duration of study better the score.\r\n",
        "\r\n",
        "\r\n",
        "\r\n",
        "\r\n",
        "\r\n",
        "\r\n",
        "\r\n",
        "\r\n",
        "\r\n",
        "\r\n",
        "\r\n",
        "\r\n",
        "\r\n",
        "\r\n",
        "\r\n",
        "\r\n",
        "\r\n",
        "\r\n",
        "\r\n"
      ]
    },
    {
      "cell_type": "code",
      "metadata": {
        "id": "VzKRg_-ipk7n"
      },
      "source": [
        ""
      ],
      "execution_count": null,
      "outputs": []
    }
  ]
}